{
  "nbformat": 4,
  "nbformat_minor": 0,
  "metadata": {
    "colab": {
      "provenance": []
    },
    "kernelspec": {
      "name": "python3",
      "display_name": "Python 3"
    },
    "language_info": {
      "name": "python"
    }
  },
  "cells": [
    {
      "cell_type": "code",
      "execution_count": 23,
      "metadata": {
        "colab": {
          "base_uri": "https://localhost:8080/"
        },
        "id": "xZ1E0UA6LqQ7",
        "outputId": "e1dd734f-5ff0-4cfc-9c2c-a0b59a8dd0fd"
      },
      "outputs": [
        {
          "output_type": "stream",
          "name": "stdout",
          "text": [
            "Drive already mounted at /content/drive; to attempt to forcibly remount, call drive.mount(\"/content/drive\", force_remount=True).\n",
            "/content/drive/.shortcut-targets-by-id/1SDt1LQzEYHlIyxPcg_tq-EtGefu_-7i6/FOCE\n"
          ]
        }
      ],
      "source": [
        "from google.colab import drive\n",
        "drive.mount('/content/drive')\n",
        "%cd /content/drive/MyDrive/FOCE\n"
      ]
    },
    {
      "cell_type": "code",
      "source": [
        "import matplotlib.pyplot as plt\n",
        "import matplotlib.gridspec as gridspec\n",
        "import cv2\n",
        "import os\n",
        "import numpy as np\n",
        "import glob\n",
        "from PIL import Image"
      ],
      "metadata": {
        "id": "wCyw8skMLyb1"
      },
      "execution_count": 24,
      "outputs": []
    },
    {
      "cell_type": "code",
      "source": [
        "def transform_image(image, sketch, angle_range, shear_range, translation_range): #transforms the original images randomly to augment the dataset\n",
        "    height, width, channels = image.shape\n",
        "\n",
        "    #rotation\n",
        "    angle = np.random.uniform(-angle_range / 2, angle_range / 2)\n",
        "    rotation_matrix = cv2.getRotationMatrix2D((width / 2, height / 2), angle, 1)\n",
        "\n",
        "    #translation\n",
        "    shift_x = np.random.uniform(-translation_range / 2, translation_range / 2)\n",
        "    shift_y = np.random.uniform(-translation_range / 2, translation_range / 2)\n",
        "    translation_matrix = np.float32([[1, 0, shift_x], [0, 1, shift_y]])\n",
        "\n",
        "    #shearing\n",
        "    base_pts = np.float32([[5, 5], [20, 5], [5, 20]])\n",
        "    delta1 = np.random.uniform(-shear_range / 2, shear_range / 2)\n",
        "    delta2 = np.random.uniform(-shear_range / 2, shear_range / 2)\n",
        "    new_pts = np.float32([[5 + delta1, 5], [20 + delta2, 5 + delta1], [5, 20 + delta2]])\n",
        "    shear_matrix = cv2.getAffineTransform(base_pts, new_pts)\n",
        "\n",
        "    #border colors\n",
        "    border_color_img = tuple(map(int, image[0, 0]))\n",
        "    border_color_skt = tuple(map(int, sketch[0, 0]))\n",
        "\n",
        "    for transform in [rotation_matrix, translation_matrix, shear_matrix]: #apply the transformations\n",
        "        image = cv2.warpAffine(image, transform, (width, height), borderValue=border_color_img)\n",
        "        sketch = cv2.warpAffine(sketch, transform, (width, height), borderValue=border_color_skt)\n",
        "\n",
        "    return image, sketch\n"
      ],
      "metadata": {
        "id": "nGUJek-fLymW"
      },
      "execution_count": 27,
      "outputs": []
    },
    {
      "cell_type": "code",
      "source": [
        "base_dir = '/content/drive/MyDrive/FOCE/CUHK/'\n",
        "sketch_dir = os.path.join(base_dir, 'Augmented sketch')\n",
        "photo_dir = os.path.join(base_dir, 'Augmented photo')\n",
        "\n",
        "\n",
        "if not os.path.exists(sketch_dir):\n",
        "    os.mkdir(sketch_dir)\n",
        "\n",
        "if not os.path.exists(photo_dir):\n",
        "    os.mkdir(photo_dir)\n",
        "\n",
        "p_filenames = glob.glob(os.path.join(base_dir, 'photos', '*'))\n",
        "s_filenames = glob.glob(os.path.join(base_dir, 'sketches', '*'))\n",
        "\n",
        "\n",
        "counter = 0\n",
        "for i in range(len(p_filenames)):\n",
        "    im = cv2.imread(p_filenames[i])\n",
        "    sk = cv2.imread(s_filenames[i])\n",
        "\n",
        "    for j in range(10): #generate 10 augmented images per original image\n",
        "        img, skt = transform_image(im, sk, 40, 10, 10)\n",
        "\n",
        "        cv2.imwrite(os.path.join(photo_dir, f'{counter}.jpg'), img)\n",
        "        cv2.imwrite(os.path.join(sketch_dir, f'{counter}.jpg'), skt)\n",
        "\n",
        "        counter += 1"
      ],
      "metadata": {
        "id": "Qvd6vKLvL20t"
      },
      "execution_count": 26,
      "outputs": []
    }
  ]
}